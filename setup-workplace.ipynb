{
 "cells": [
  {
   "cell_type": "markdown",
   "metadata": {},
   "source": [
    "# Setting Up Workspace\n",
    "## Goal:\n",
    "+ GitHub Account\n",
    "+ Google Cloud Account\n",
    "+ Create a django project\n",
    "+ Running Django on the Google Kubernetes Engine\n",
    "\n",
    "## References\n",
    "+ https://cli.github.com\n",
    "+ https://cloud.google.com/sdk/docs/install-sdk\n",
    "+ https://www.djangoproject.com\n",
    "+ https://docs.djangoproject.com/en/4.2/intro/tutorial01/\n",
    "+ https://cloud.google.com/python/django/kubernetes-engine"
   ]
  },
  {
   "cell_type": "code",
   "execution_count": 1,
   "metadata": {},
   "outputs": [
    {
     "name": "stdout",
     "output_type": "stream",
     "text": [
      "Requirement already satisfied: Django in /opt/homebrew/lib/python3.11/site-packages (4.2.7)\n",
      "Requirement already satisfied: asgiref<4,>=3.6.0 in /opt/homebrew/lib/python3.11/site-packages (from Django) (3.7.2)\n",
      "Requirement already satisfied: sqlparse>=0.3.1 in /opt/homebrew/lib/python3.11/site-packages (from Django) (0.4.4)\n",
      "Note: you may need to restart the kernel to use updated packages.\n"
     ]
    }
   ],
   "source": [
    "%pip install Django"
   ]
  },
  {
   "cell_type": "code",
   "execution_count": 6,
   "metadata": {},
   "outputs": [
    {
     "name": "stdout",
     "output_type": "stream",
     "text": [
      "4.2.7\n"
     ]
    }
   ],
   "source": [
    "import django\n",
    "print(django.get_version())"
   ]
  },
  {
   "cell_type": "code",
   "execution_count": null,
   "metadata": {},
   "outputs": [],
   "source": []
  }
 ],
 "metadata": {
  "kernelspec": {
   "display_name": "Python 3",
   "language": "python",
   "name": "python3"
  },
  "language_info": {
   "codemirror_mode": {
    "name": "ipython",
    "version": 3
   },
   "file_extension": ".py",
   "mimetype": "text/x-python",
   "name": "python",
   "nbconvert_exporter": "python",
   "pygments_lexer": "ipython3",
   "version": "3.11.6"
  }
 },
 "nbformat": 4,
 "nbformat_minor": 2
}
